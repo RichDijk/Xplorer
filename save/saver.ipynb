{
 "cells": [
  {
   "cell_type": "code",
   "execution_count": null,
   "metadata": {},
   "outputs": [],
   "source": [
    "@app.route(\"/hirarchy_test\")\n",
    "def hirarchy_data_test():  \n",
    "        global G\n",
    "        Tree = []\n",
    "        node = \"1218729044\" \n",
    "        ID = G.nodes()[node]['title']\n",
    "        Tree.append({\"value\":node,\"id\": node})\n",
    "        \n",
    "        def build_tree(Tree,ID,node):\n",
    "            childs = G.nodes()[node]['childs']\n",
    "            if len(childs)>0:\n",
    "                for item in childs:\n",
    "                    ID = ID + \".\" + str(item)\n",
    "                    Tree.append({\"id\":ID,\"value\":str(item)})\n",
    "                    build_tree(Tree,ID,str(item))\n",
    "            return Tree\n",
    "                \n",
    "        Tree = build_tree(Tree,ID,node)\n",
    "        \n",
    "        return Response(Tree,mimetype=\"application/json\") "
   ]
  }
 ],
 "metadata": {
  "kernelspec": {
   "display_name": "Python 3",
   "language": "python",
   "name": "python3"
  },
  "language_info": {
   "codemirror_mode": {
    "name": "ipython",
    "version": 3
   },
   "file_extension": ".py",
   "mimetype": "text/x-python",
   "name": "python",
   "nbconvert_exporter": "python",
   "pygments_lexer": "ipython3",
   "version": "3.6.4"
  }
 },
 "nbformat": 4,
 "nbformat_minor": 2
}
